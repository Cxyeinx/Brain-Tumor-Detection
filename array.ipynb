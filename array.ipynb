{
 "cells": [
  {
   "cell_type": "code",
   "execution_count": 12,
   "id": "steady-afghanistan",
   "metadata": {},
   "outputs": [],
   "source": [
    "import numpy as np\n",
    "from PIL import Image\n",
    "import matplotlib.pyplot as plt\n",
    "import os\n",
    "from tqdm import tqdm"
   ]
  },
  {
   "cell_type": "code",
   "execution_count": 13,
   "id": "anonymous-mistress",
   "metadata": {},
   "outputs": [],
   "source": [
    "x_train = []\n",
    "y_train = []"
   ]
  },
  {
   "cell_type": "code",
   "execution_count": 14,
   "id": "about-cause",
   "metadata": {},
   "outputs": [
    {
     "name": "stderr",
     "output_type": "stream",
     "text": [
      "100%|██████████| 98/98 [00:00<00:00, 269.87it/s]\n",
      "100%|██████████| 155/155 [00:00<00:00, 237.94it/s]\n"
     ]
    }
   ],
   "source": [
    "for image in tqdm(sorted(os.listdir(\"archive/no\"))):\n",
    "    img = Image.open(f\"archive/no/{image}\").convert(\"RGB\").resize((128,128))\n",
    "    img = np.array(img)\n",
    "    x_train.append(img)\n",
    "    y_train.append(0)\n",
    "\n",
    "for image in tqdm(sorted(os.listdir(\"archive/yes\"))):\n",
    "    img = Image.open(f\"archive/yes/{image}\").convert(\"RGB\").resize((128,128))\n",
    "    img = np.array(img)\n",
    "    x_train.append(img)\n",
    "    y_train.append(1)\n"
   ]
  },
  {
   "cell_type": "code",
   "execution_count": 15,
   "id": "private-spouse",
   "metadata": {},
   "outputs": [],
   "source": [
    "x_train = np.array(x_train)\n",
    "y_train = np.array(y_train)\n"
   ]
  },
  {
   "cell_type": "code",
   "execution_count": 16,
   "id": "hairy-martin",
   "metadata": {},
   "outputs": [
    {
     "name": "stdout",
     "output_type": "stream",
     "text": [
      "(253, 128, 128, 3) (253,)\n"
     ]
    }
   ],
   "source": [
    "print(x_train.shape, y_train.shape)"
   ]
  },
  {
   "cell_type": "code",
   "execution_count": 17,
   "id": "modern-authentication",
   "metadata": {},
   "outputs": [],
   "source": [
    "np.save(\"x_train.npy\", x_train)\n",
    "np.save(\"y_train.npy\", y_train)"
   ]
  },
  {
   "cell_type": "code",
   "execution_count": null,
   "id": "daily-support",
   "metadata": {},
   "outputs": [],
   "source": []
  }
 ],
 "metadata": {
  "kernelspec": {
   "display_name": "Python 3",
   "language": "python",
   "name": "python3"
  },
  "language_info": {
   "codemirror_mode": {
    "name": "ipython",
    "version": 3
   },
   "file_extension": ".py",
   "mimetype": "text/x-python",
   "name": "python",
   "nbconvert_exporter": "python",
   "pygments_lexer": "ipython3",
   "version": "3.8.5"
  }
 },
 "nbformat": 4,
 "nbformat_minor": 5
}
